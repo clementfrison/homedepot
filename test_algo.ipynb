{
 "cells": [
  {
   "cell_type": "markdown",
   "metadata": {},
   "source": [
    "# Load data"
   ]
  },
  {
   "cell_type": "code",
   "execution_count": 1,
   "metadata": {
    "collapsed": true
   },
   "outputs": [],
   "source": [
    "import pandas as pd"
   ]
  },
  {
   "cell_type": "code",
   "execution_count": 2,
   "metadata": {
    "collapsed": false
   },
   "outputs": [],
   "source": [
    "train_df = pd.read_csv(\"data/train.csv\", encoding=\"ISO-8859-1\")\n",
    "test_df = pd.read_csv(\"data/test.csv\", encoding=\"ISO-8859-1\")\n",
    "attribute_df = pd.read_csv(\"data/attributes.csv\")\n",
    "product_df = pd.read_csv(\"data/product_descriptions.csv\")"
   ]
  },
  {
   "cell_type": "code",
   "execution_count": 3,
   "metadata": {
    "collapsed": true
   },
   "outputs": [],
   "source": [
    "# dataset = pd.concat((df_train, df_test), axis=0, ignore_index=True)\n",
    "dataset = train_df"
   ]
  },
  {
   "cell_type": "code",
   "execution_count": 4,
   "metadata": {
    "collapsed": true
   },
   "outputs": [],
   "source": [
    "dataset = pd.merge(dataset, product_df, how='left', on='product_uid')"
   ]
  },
  {
   "cell_type": "markdown",
   "metadata": {},
   "source": [
    "# Attributes processing"
   ]
  },
  {
   "cell_type": "markdown",
   "metadata": {},
   "source": [
    "Exploration du dataframe attribute_df"
   ]
  },
  {
   "cell_type": "code",
   "execution_count": 5,
   "metadata": {
    "collapsed": false
   },
   "outputs": [
    {
     "data": {
      "text/html": [
       "<div>\n",
       "<table border=\"1\" class=\"dataframe\">\n",
       "  <thead>\n",
       "    <tr style=\"text-align: right;\">\n",
       "      <th></th>\n",
       "      <th>product_uid</th>\n",
       "      <th>name</th>\n",
       "      <th>value</th>\n",
       "    </tr>\n",
       "  </thead>\n",
       "  <tbody>\n",
       "    <tr>\n",
       "      <th>0</th>\n",
       "      <td>100001</td>\n",
       "      <td>Bullet01</td>\n",
       "      <td>Versatile connector for various 90° connection...</td>\n",
       "    </tr>\n",
       "    <tr>\n",
       "      <th>1</th>\n",
       "      <td>100001</td>\n",
       "      <td>Bullet02</td>\n",
       "      <td>Stronger than angled nailing or screw fastenin...</td>\n",
       "    </tr>\n",
       "    <tr>\n",
       "      <th>2</th>\n",
       "      <td>100001</td>\n",
       "      <td>Bullet03</td>\n",
       "      <td>Help ensure joints are consistently straight a...</td>\n",
       "    </tr>\n",
       "  </tbody>\n",
       "</table>\n",
       "</div>"
      ],
      "text/plain": [
       "   product_uid      name                                              value\n",
       "0       100001  Bullet01  Versatile connector for various 90° connection...\n",
       "1       100001  Bullet02  Stronger than angled nailing or screw fastenin...\n",
       "2       100001  Bullet03  Help ensure joints are consistently straight a..."
      ]
     },
     "execution_count": 5,
     "metadata": {},
     "output_type": "execute_result"
    }
   ],
   "source": [
    "attribute_df[0:3]"
   ]
  },
  {
   "cell_type": "code",
   "execution_count": 6,
   "metadata": {
    "collapsed": false
   },
   "outputs": [
    {
     "name": "stdout",
     "output_type": "stream",
     "text": [
      "unique product_uid in attribute_df: 86264\n",
      "unique attributes:  5411\n"
     ]
    }
   ],
   "source": [
    "print \"unique product_uid in attribute_df: \" + str(len(attribute_df[\"product_uid\"].unique()))\n",
    "print \"unique attributes:  \" + str(len(attribute_df[\"name\"].unique()))"
   ]
  },
  {
   "cell_type": "code",
   "execution_count": 7,
   "metadata": {
    "collapsed": false
   },
   "outputs": [
    {
     "name": "stdout",
     "output_type": "stream",
     "text": [
      "<type 'str'>\n"
     ]
    },
    {
     "data": {
      "text/plain": [
       "'12'"
      ]
     },
     "execution_count": 7,
     "metadata": {},
     "output_type": "execute_result"
    }
   ],
   "source": [
    "print type(attribute_df.iloc[7][\"value\"])\n",
    "attribute_df.iloc[7][\"value\"]"
   ]
  },
  {
   "cell_type": "markdown",
   "metadata": {},
   "source": [
    "## 1) Bullets"
   ]
  },
  {
   "cell_type": "markdown",
   "metadata": {},
   "source": [
    "### Identify bullet attributes\n",
    "On veut concatener les données textes de description & bullets  \n",
    "... à moins que les lecteurs regardent les bullets points en priorité ?"
   ]
  },
  {
   "cell_type": "code",
   "execution_count": 8,
   "metadata": {
    "collapsed": false
   },
   "outputs": [],
   "source": [
    "import re\n",
    "myregex = r'^Bullet\\d{1,2}'\n",
    "attributes = attribute_df[\"name\"].unique().tolist()\n",
    "bullet_cols = [attr for attr in attributes if (re.match(myregex, unicode(attr)))]"
   ]
  },
  {
   "cell_type": "markdown",
   "metadata": {},
   "source": [
    "## 2) Attributes that can appear multiple times for 1 product"
   ]
  },
  {
   "cell_type": "markdown",
   "metadata": {},
   "source": [
    "### Understand the issue\n",
    "Some attributes appear multiple times so we need to deal with them ...  \n",
    "for example a product can be available in different colors, sizes, ..."
   ]
  },
  {
   "cell_type": "code",
   "execution_count": 9,
   "metadata": {
    "collapsed": false
   },
   "outputs": [],
   "source": [
    "investiguation = attribute_df.groupby([\"name\", \"product_uid\"]).count()\n",
    "multi_attr = investiguation[investiguation[\"value\"] > 1]"
   ]
  },
  {
   "cell_type": "code",
   "execution_count": 10,
   "metadata": {
    "collapsed": false
   },
   "outputs": [
    {
     "name": "stdout",
     "output_type": "stream",
     "text": [
      "45 different attributes may have multiple values\n",
      "5 examples: ['Style', 'Seating Capacity', 'Power Source', 'Pool Type', 'Floor Options']\n"
     ]
    }
   ],
   "source": [
    "multiple_attr = set([el[0] for el in investiguation[investiguation[\"value\"] > 1].index.values])\n",
    "print str(len(multiple_attr)) + \" different attributes may have multiple values\"\n",
    "print \"5 examples: \" + str(list(multiple_attr)[0:5])"
   ]
  },
  {
   "cell_type": "markdown",
   "metadata": {},
   "source": [
    "### Concatenate the values"
   ]
  },
  {
   "cell_type": "code",
   "execution_count": 11,
   "metadata": {
    "collapsed": false
   },
   "outputs": [],
   "source": [
    "new_attribute_df = attribute_df.dropna()\n",
    "new_attribute_df = new_attribute_df.groupby([\"name\", \"product_uid\"])['value'].apply(lambda x: ' '.join(x))\n",
    "new_attribute_df = new_attribute_df.reset_index()"
   ]
  },
  {
   "cell_type": "code",
   "execution_count": 12,
   "metadata": {
    "collapsed": false
   },
   "outputs": [
    {
     "name": "stdout",
     "output_type": "stream",
     "text": [
      "len(attribute_df) : 2044803\n",
      "len(new_attribute_df) : 2039885\n",
      "number of lines aggregated : 4918\n"
     ]
    }
   ],
   "source": [
    "print \"len(attribute_df) : \" + str(len(attribute_df))\n",
    "print \"len(new_attribute_df) : \" + str(len(new_attribute_df))\n",
    "print \"number of lines aggregated : \" + str(len(attribute_df) - len(new_attribute_df))"
   ]
  },
  {
   "cell_type": "markdown",
   "metadata": {},
   "source": [
    "## 3) Attributes to dataset"
   ]
  },
  {
   "cell_type": "markdown",
   "metadata": {},
   "source": [
    "idée :  \n",
    "si un terme de la query est proche d'un nom d'attribut,...  \n",
    "... on veut voir si un autre terme de la query est égale à la valeur de l'attribut en question  \n",
    "on veut donc faire :\n",
    "- a) une jointure entre dataset et attributes_df\n",
    "- b) un *cosine(query, name).cosine(query, value)*\n",
    "- c) un pivot pour mettre ces features en colonne"
   ]
  },
  {
   "cell_type": "markdown",
   "metadata": {},
   "source": [
    "### a)"
   ]
  },
  {
   "cell_type": "code",
   "execution_count": 13,
   "metadata": {
    "collapsed": true
   },
   "outputs": [],
   "source": [
    "dataset = pd.merge(dataset, new_attribute_df, how='left', on='product_uid')"
   ]
  },
  {
   "cell_type": "code",
   "execution_count": 14,
   "metadata": {
    "collapsed": false
   },
   "outputs": [
    {
     "name": "stdout",
     "output_type": "stream",
     "text": [
      "1425452\n",
      "54667\n",
      "4959\n"
     ]
    }
   ],
   "source": [
    "print len(dataset)\n",
    "print len(dataset[\"product_uid\"].unique())\n",
    "print len(dataset[\"name\"].unique())"
   ]
  },
  {
   "cell_type": "markdown",
   "metadata": {
    "collapsed": true
   },
   "source": [
    "### b)"
   ]
  },
  {
   "cell_type": "markdown",
   "metadata": {},
   "source": [
    "Some product don't have any attributes so we need to be careful when we train our tfidf to avoid error"
   ]
  },
  {
   "cell_type": "code",
   "execution_count": 22,
   "metadata": {
    "collapsed": false
   },
   "outputs": [
    {
     "name": "stdout",
     "output_type": "stream",
     "text": [
      "0\n",
      "0\n",
      "0\n",
      "17520\n",
      "17520\n"
     ]
    }
   ],
   "source": [
    "print len(dataset[\"product_title\"])-len(dataset[\"product_title\"].dropna())\n",
    "print len(dataset[\"search_term\"])-len(dataset[\"search_term\"].dropna())\n",
    "print len(dataset[\"product_description\"])-len(dataset[\"product_description\"].dropna())\n",
    "print len(dataset[\"name\"])-len(dataset[\"name\"].dropna())\n",
    "print len(dataset[\"value\"])-len(dataset[\"value\"].dropna())"
   ]
  },
  {
   "cell_type": "markdown",
   "metadata": {
    "collapsed": true
   },
   "source": [
    "#### Train tfidf model"
   ]
  },
  {
   "cell_type": "code",
   "execution_count": null,
   "metadata": {
    "collapsed": false
   },
   "outputs": [
    {
     "name": "stderr",
     "output_type": "stream",
     "text": [
      "/usr/local/lib/python2.7/dist-packages/numpy/core/fromnumeric.py:2645: VisibleDeprecationWarning: `rank` is deprecated; use the `ndim` attribute or function instead. To find the rank of a matrix see `numpy.linalg.matrix_rank`.\n",
      "  VisibleDeprecationWarning)\n"
     ]
    },
    {
     "data": {
      "text/plain": [
       "TfidfVectorizer(analyzer=u'word', binary=False, decode_error=u'strict',\n",
       "        dtype=<type 'numpy.int64'>, encoding=u'utf-8', input=u'content',\n",
       "        lowercase=True, max_df=1.0, max_features=None, min_df=1,\n",
       "        ngram_range=(1, 1), norm=u'l2', preprocessor=None, smooth_idf=True,\n",
       "        stop_words=None, strip_accents='unicode', sublinear_tf=False,\n",
       "        token_pattern=u'(?u)\\\\b\\\\w\\\\w+\\\\b', tokenizer=None, use_idf=True,\n",
       "        vocabulary=None)"
      ]
     },
     "execution_count": 24,
     "metadata": {},
     "output_type": "execute_result"
    }
   ],
   "source": [
    "from sklearn.feature_extraction.text import TfidfVectorizer\n",
    "import itertools\n",
    "mytfidf = TfidfVectorizer(strip_accents='unicode')\n",
    "myiterable = itertools.chain(dataset[\"product_title\"],\n",
    "                             dataset[\"search_term\"],\n",
    "                             dataset[\"product_description\"],\n",
    "                             dataset[\"name\"].dropna(),\n",
    "                             dataset[\"value\"].dropna())\n",
    "\n",
    "mytfidf.fit(myiterable)"
   ]
  },
  {
   "cell_type": "markdown",
   "metadata": {},
   "source": [
    "#### Transform tfidf & compute cosine similarity"
   ]
  },
  {
   "cell_type": "code",
   "execution_count": null,
   "metadata": {
    "collapsed": true
   },
   "outputs": [],
   "source": [
    "from sklearn.metrics.pairwise import cosine_similarity\n",
    "\n",
    "def f_title(row):\n",
    "    title_vec = mytfidf.transform([row['product_title']])\n",
    "    query_vec = mytfidf.transform([row['search_term']])\n",
    "    sim = cosine_similarity(title_vec, query_vec)\n",
    "    return float(sim)\n",
    "\n",
    "def f_description(row):\n",
    "    descr_vec = mytfidf.transform([row['product_description']])\n",
    "    query_vec = mytfidf.transform([row['search_term']])\n",
    "    sim = cosine_similarity(descr_vec, query_vec)\n",
    "    return float(sim)\n",
    "\n",
    "def f_attribute(row):\n",
    "    attr_name_vec = mytfidf.transform([row['name']])\n",
    "    attr_value_vec = mytfidf.transform([row['value']])\n",
    "    query_vec = mytfidf.transform([row['search_term']])\n",
    "    sim = cosine_similarity(attr_name_vec, query_vec) * cosine_similarity(attr_value_vec, query_vec)\n",
    "    return float(sim)\n",
    "\n",
    "dataset[\"f_title\"] = dataset.apply(f_title, axis=1)\n",
    "dataset[\"f_description\"] = dataset.apply(f_description, axis=1)\n",
    "dataset[\"f_attribute\"] = dataset.apply(f_attribute, axis=1)"
   ]
  },
  {
   "cell_type": "markdown",
   "metadata": {},
   "source": [
    "### c)"
   ]
  },
  {
   "cell_type": "markdown",
   "metadata": {},
   "source": [
    "We add identifier for our attributes"
   ]
  },
  {
   "cell_type": "code",
   "execution_count": null,
   "metadata": {
    "collapsed": true
   },
   "outputs": [],
   "source": [
    "new_attribute_df[\"attribute_uid\"] = pd.factorize(new_attribute_df.name)[0]\n",
    "new_attribute_df[\"name_uid\"] = new_attribute_df[\"attribute_uid\"].apply(lambda x:\"f_attribute\"+unicode(x))\n",
    "nb_f_attr = len(dataset[\"name_uid\"])"
   ]
  },
  {
   "cell_type": "markdown",
   "metadata": {},
   "source": [
    "We do the pivot to have our features in columns"
   ]
  },
  {
   "cell_type": "code",
   "execution_count": null,
   "metadata": {
    "collapsed": true
   },
   "outputs": [],
   "source": [
    "new_dataset = dataset.pivot(index=None,\n",
    "                            columns='name_uid',\n",
    "                            values='value')"
   ]
  },
  {
   "cell_type": "code",
   "execution_count": null,
   "metadata": {
    "collapsed": true
   },
   "outputs": [],
   "source": [
    "new_dataset[0:3]"
   ]
  },
  {
   "cell_type": "markdown",
   "metadata": {},
   "source": [
    "# Train our ML model"
   ]
  },
  {
   "cell_type": "markdown",
   "metadata": {},
   "source": [
    "We create our test set & our training set"
   ]
  },
  {
   "cell_type": "code",
   "execution_count": null,
   "metadata": {
    "collapsed": true
   },
   "outputs": [],
   "source": [
    "import numpy as np\n",
    "seed = 42\n",
    "ratio = 0.9\n",
    "np.random.seed(seed)\n",
    "msk = np.random.rand(len(new_dataset)) < ratio\n",
    "training = new_dataset[msk]\n",
    "test = new_dataset[~msk]"
   ]
  },
  {
   "cell_type": "markdown",
   "metadata": {},
   "source": [
    "We train a RandomForestRegressor"
   ]
  },
  {
   "cell_type": "code",
   "execution_count": null,
   "metadata": {
    "collapsed": true
   },
   "outputs": [],
   "source": [
    "from sklearn.ensemble import RandomForestRegressor\n",
    "mymodel = RandomForestRegressor()\n",
    "feature_list = [\"f_title\", \"f_description\"] + [\"f_attribute\"+str(i) for i in range(nb_f_attr)]\n",
    "mymodel.fit(X=training[feature_list], y=training[\"relevance\"])"
   ]
  },
  {
   "cell_type": "code",
   "execution_count": null,
   "metadata": {
    "collapsed": true
   },
   "outputs": [],
   "source": []
  },
  {
   "cell_type": "markdown",
   "metadata": {},
   "source": [
    "# next steps  \n",
    "- tester le modele actuel\n",
    "- réduire le nombre de features (clustering noms d'attributs, réduction de dimension, ...)\n",
    "- améliorer le text processing\n",
    "- passer d'un cosine à un soft-tfidf"
   ]
  },
  {
   "cell_type": "code",
   "execution_count": null,
   "metadata": {
    "collapsed": true
   },
   "outputs": [],
   "source": []
  },
  {
   "cell_type": "code",
   "execution_count": null,
   "metadata": {
    "collapsed": true
   },
   "outputs": [],
   "source": []
  },
  {
   "cell_type": "code",
   "execution_count": null,
   "metadata": {
    "collapsed": true
   },
   "outputs": [],
   "source": []
  },
  {
   "cell_type": "code",
   "execution_count": null,
   "metadata": {
    "collapsed": true
   },
   "outputs": [],
   "source": []
  },
  {
   "cell_type": "code",
   "execution_count": null,
   "metadata": {
    "collapsed": true
   },
   "outputs": [],
   "source": []
  },
  {
   "cell_type": "code",
   "execution_count": null,
   "metadata": {
    "collapsed": true
   },
   "outputs": [],
   "source": []
  },
  {
   "cell_type": "code",
   "execution_count": null,
   "metadata": {
    "collapsed": true
   },
   "outputs": [],
   "source": []
  },
  {
   "cell_type": "code",
   "execution_count": null,
   "metadata": {
    "collapsed": true
   },
   "outputs": [],
   "source": []
  },
  {
   "cell_type": "code",
   "execution_count": null,
   "metadata": {
    "collapsed": true
   },
   "outputs": [],
   "source": []
  },
  {
   "cell_type": "code",
   "execution_count": null,
   "metadata": {
    "collapsed": true
   },
   "outputs": [],
   "source": []
  },
  {
   "cell_type": "code",
   "execution_count": null,
   "metadata": {
    "collapsed": true
   },
   "outputs": [],
   "source": []
  },
  {
   "cell_type": "code",
   "execution_count": null,
   "metadata": {
    "collapsed": true
   },
   "outputs": [],
   "source": []
  },
  {
   "cell_type": "code",
   "execution_count": null,
   "metadata": {
    "collapsed": true
   },
   "outputs": [],
   "source": []
  },
  {
   "cell_type": "code",
   "execution_count": null,
   "metadata": {
    "collapsed": true
   },
   "outputs": [],
   "source": []
  },
  {
   "cell_type": "code",
   "execution_count": null,
   "metadata": {
    "collapsed": true
   },
   "outputs": [],
   "source": []
  },
  {
   "cell_type": "code",
   "execution_count": null,
   "metadata": {
    "collapsed": true
   },
   "outputs": [],
   "source": []
  },
  {
   "cell_type": "code",
   "execution_count": null,
   "metadata": {
    "collapsed": true
   },
   "outputs": [],
   "source": []
  },
  {
   "cell_type": "markdown",
   "metadata": {
    "collapsed": false
   },
   "source": [
    "# TESTS"
   ]
  },
  {
   "cell_type": "markdown",
   "metadata": {},
   "source": [
    "### we add [\"attribute_uid\", \"name_uid\", \"value_uid\"]"
   ]
  },
  {
   "cell_type": "code",
   "execution_count": 14,
   "metadata": {
    "collapsed": false
   },
   "outputs": [],
   "source": [
    "new_attribute_df[\"attribute_uid\"] = pd.factorize(new_attribute_df.name)[0]\n",
    "new_attribute_df[\"name_uid\"] = new_attribute_df[\"attribute_uid\"].apply(lambda x:\"name\"+unicode(x))\n",
    "#attribute_df[\"value_uid\"]= attribute_df[\"attribute_uid\"].apply(lambda x:\"value\"+unicode(x))"
   ]
  },
  {
   "cell_type": "code",
   "execution_count": 15,
   "metadata": {
    "collapsed": false
   },
   "outputs": [
    {
     "data": {
      "text/html": [
       "<div>\n",
       "<table border=\"1\" class=\"dataframe\">\n",
       "  <thead>\n",
       "    <tr style=\"text-align: right;\">\n",
       "      <th></th>\n",
       "      <th>name</th>\n",
       "      <th>product_uid</th>\n",
       "      <th>value</th>\n",
       "      <th>attribute_uid</th>\n",
       "      <th>name_uid</th>\n",
       "    </tr>\n",
       "  </thead>\n",
       "  <tbody>\n",
       "    <tr>\n",
       "      <th>0</th>\n",
       "      <td># of Line Wires</td>\n",
       "      <td>123462</td>\n",
       "      <td>1</td>\n",
       "      <td>0</td>\n",
       "      <td>name0</td>\n",
       "    </tr>\n",
       "    <tr>\n",
       "      <th>1</th>\n",
       "      <td># of Line Wires</td>\n",
       "      <td>124031</td>\n",
       "      <td>1</td>\n",
       "      <td>0</td>\n",
       "      <td>name0</td>\n",
       "    </tr>\n",
       "    <tr>\n",
       "      <th>2</th>\n",
       "      <td># of Line Wires</td>\n",
       "      <td>125205</td>\n",
       "      <td>1</td>\n",
       "      <td>0</td>\n",
       "      <td>name0</td>\n",
       "    </tr>\n",
       "  </tbody>\n",
       "</table>\n",
       "</div>"
      ],
      "text/plain": [
       "              name  product_uid value  attribute_uid name_uid\n",
       "0  # of Line Wires       123462     1              0    name0\n",
       "1  # of Line Wires       124031     1              0    name0\n",
       "2  # of Line Wires       125205     1              0    name0"
      ]
     },
     "execution_count": 15,
     "metadata": {},
     "output_type": "execute_result"
    }
   ],
   "source": [
    "new_attribute_df[0:3]"
   ]
  },
  {
   "cell_type": "markdown",
   "metadata": {},
   "source": [
    "### we do the pivot"
   ]
  },
  {
   "cell_type": "code",
   "execution_count": null,
   "metadata": {
    "collapsed": false
   },
   "outputs": [],
   "source": [
    "nameid_df = new_attribute_df.pivot(index=None,\n",
    "                                   columns='name_uid',\n",
    "                                   values='value')\n",
    "nameid_df"
   ]
  },
  {
   "cell_type": "markdown",
   "metadata": {},
   "source": [
    "### we build an attribute dictionary"
   ]
  },
  {
   "cell_type": "markdown",
   "metadata": {},
   "source": [
    "j'ai aussi besoin du dictionnaire name_attr[value_uid]  \n",
    "pour que si any(token_query) in name_attr[value_uid]  \n",
    "alors sim(query, valuei) sinon 0"
   ]
  },
  {
   "cell_type": "code",
   "execution_count": 77,
   "metadata": {
    "collapsed": false
   },
   "outputs": [
    {
     "data": {
      "text/plain": [
       "'Bullet01'"
      ]
     },
     "execution_count": 77,
     "metadata": {},
     "output_type": "execute_result"
    }
   ],
   "source": [
    "tmp = attribute_df.groupby([\"value_uid\", \"name\"]).count().reset_index()[[\"value_uid\", \"name\"]]\n",
    "name_attr = pd.Series(tmp[\"name\"].values, index=tmp[\"value_uid\"]).to_dict()\n",
    "name_attr\n",
    "name_attr[\"value0\"]"
   ]
  },
  {
   "cell_type": "code",
   "execution_count": 57,
   "metadata": {
    "collapsed": false,
    "scrolled": true
   },
   "outputs": [
    {
     "name": "stdout",
     "output_type": "stream",
     "text": [
      "75\n",
      "<type 'str'>\n"
     ]
    }
   ],
   "source": [
    "test = attribute_df[0:100].pivot(index='product_uid',\n",
    "                                 columns='value_uid',\n",
    "                                 values='value')\n",
    "print test.iloc[1][\"value27\"]\n",
    "print type(test.iloc[1][\"value27\"])"
   ]
  },
  {
   "cell_type": "code",
   "execution_count": 58,
   "metadata": {
    "collapsed": false
   },
   "outputs": [
    {
     "data": {
      "text/html": [
       "<div>\n",
       "<table border=\"1\" class=\"dataframe\">\n",
       "  <thead>\n",
       "    <tr style=\"text-align: right;\">\n",
       "      <th>value_uid</th>\n",
       "      <th>value0</th>\n",
       "      <th>value1</th>\n",
       "      <th>value10</th>\n",
       "      <th>value11</th>\n",
       "      <th>value12</th>\n",
       "      <th>value13</th>\n",
       "      <th>value14</th>\n",
       "      <th>value15</th>\n",
       "      <th>value16</th>\n",
       "      <th>value17</th>\n",
       "      <th>...</th>\n",
       "      <th>value68</th>\n",
       "      <th>value69</th>\n",
       "      <th>value7</th>\n",
       "      <th>value70</th>\n",
       "      <th>value71</th>\n",
       "      <th>value72</th>\n",
       "      <th>value73</th>\n",
       "      <th>value74</th>\n",
       "      <th>value8</th>\n",
       "      <th>value9</th>\n",
       "    </tr>\n",
       "    <tr>\n",
       "      <th>product_uid</th>\n",
       "      <th></th>\n",
       "      <th></th>\n",
       "      <th></th>\n",
       "      <th></th>\n",
       "      <th></th>\n",
       "      <th></th>\n",
       "      <th></th>\n",
       "      <th></th>\n",
       "      <th></th>\n",
       "      <th></th>\n",
       "      <th></th>\n",
       "      <th></th>\n",
       "      <th></th>\n",
       "      <th></th>\n",
       "      <th></th>\n",
       "      <th></th>\n",
       "      <th></th>\n",
       "      <th></th>\n",
       "      <th></th>\n",
       "      <th></th>\n",
       "      <th></th>\n",
       "    </tr>\n",
       "  </thead>\n",
       "  <tbody>\n",
       "    <tr>\n",
       "      <th>100001</th>\n",
       "      <td>Versatile connector for various 90° connection...</td>\n",
       "      <td>Stronger than angled nailing or screw fastenin...</td>\n",
       "      <td>1</td>\n",
       "      <td>1.5</td>\n",
       "      <td>3</td>\n",
       "      <td>0.26</td>\n",
       "      <td>3</td>\n",
       "      <td>NaN</td>\n",
       "      <td>NaN</td>\n",
       "      <td>NaN</td>\n",
       "      <td>...</td>\n",
       "      <td>NaN</td>\n",
       "      <td>NaN</td>\n",
       "      <td>12</td>\n",
       "      <td>NaN</td>\n",
       "      <td>NaN</td>\n",
       "      <td>NaN</td>\n",
       "      <td>NaN</td>\n",
       "      <td>NaN</td>\n",
       "      <td>Galvanized Steel</td>\n",
       "      <td>Simpson Strong-Tie</td>\n",
       "    </tr>\n",
       "    <tr>\n",
       "      <th>100002</th>\n",
       "      <td>Revives wood and composite decks, railings, po...</td>\n",
       "      <td>100% acrylic solid color coating</td>\n",
       "      <td>NaN</td>\n",
       "      <td>NaN</td>\n",
       "      <td>NaN</td>\n",
       "      <td>NaN</td>\n",
       "      <td>NaN</td>\n",
       "      <td>Brush,Roller,Spray</td>\n",
       "      <td>6.63 in</td>\n",
       "      <td>7.76 in</td>\n",
       "      <td>...</td>\n",
       "      <td>NaN</td>\n",
       "      <td>NaN</td>\n",
       "      <td>NaN</td>\n",
       "      <td>NaN</td>\n",
       "      <td>NaN</td>\n",
       "      <td>NaN</td>\n",
       "      <td>NaN</td>\n",
       "      <td>NaN</td>\n",
       "      <td>NaN</td>\n",
       "      <td>BEHR Premium Textured DeckOver</td>\n",
       "    </tr>\n",
       "    <tr>\n",
       "      <th>100003</th>\n",
       "      <td>Slightly narrower for tighter spaces</td>\n",
       "      <td>Designed with an 18 in. apron</td>\n",
       "      <td>NaN</td>\n",
       "      <td>NaN</td>\n",
       "      <td>NaN</td>\n",
       "      <td>129</td>\n",
       "      <td>NaN</td>\n",
       "      <td>NaN</td>\n",
       "      <td>NaN</td>\n",
       "      <td>NaN</td>\n",
       "      <td>...</td>\n",
       "      <td>NaN</td>\n",
       "      <td>NaN</td>\n",
       "      <td>NaN</td>\n",
       "      <td>NaN</td>\n",
       "      <td>NaN</td>\n",
       "      <td>NaN</td>\n",
       "      <td>NaN</td>\n",
       "      <td>NaN</td>\n",
       "      <td>Composite</td>\n",
       "      <td>STERLING</td>\n",
       "    </tr>\n",
       "    <tr>\n",
       "      <th>100004</th>\n",
       "      <td>Positive power tolerance (0 to +5-Watt)</td>\n",
       "      <td>Anti-reflective and anti-soiling surface reduc...</td>\n",
       "      <td>NaN</td>\n",
       "      <td>NaN</td>\n",
       "      <td>NaN</td>\n",
       "      <td>NaN</td>\n",
       "      <td>NaN</td>\n",
       "      <td>NaN</td>\n",
       "      <td>NaN</td>\n",
       "      <td>NaN</td>\n",
       "      <td>...</td>\n",
       "      <td>No</td>\n",
       "      <td>No</td>\n",
       "      <td>NaN</td>\n",
       "      <td>4</td>\n",
       "      <td>1.57</td>\n",
       "      <td>64.96</td>\n",
       "      <td>40</td>\n",
       "      <td>39</td>\n",
       "      <td>NaN</td>\n",
       "      <td>Grape Solar</td>\n",
       "    </tr>\n",
       "  </tbody>\n",
       "</table>\n",
       "<p>4 rows × 75 columns</p>\n",
       "</div>"
      ],
      "text/plain": [
       "value_uid                                               value0  \\\n",
       "product_uid                                                      \n",
       "100001       Versatile connector for various 90° connection...   \n",
       "100002       Revives wood and composite decks, railings, po...   \n",
       "100003                    Slightly narrower for tighter spaces   \n",
       "100004                 Positive power tolerance (0 to +5-Watt)   \n",
       "\n",
       "value_uid                                               value1 value10  \\\n",
       "product_uid                                                              \n",
       "100001       Stronger than angled nailing or screw fastenin...       1   \n",
       "100002                        100% acrylic solid color coating     NaN   \n",
       "100003                           Designed with an 18 in. apron     NaN   \n",
       "100004       Anti-reflective and anti-soiling surface reduc...     NaN   \n",
       "\n",
       "value_uid   value11 value12 value13 value14             value15  value16  \\\n",
       "product_uid                                                                \n",
       "100001          1.5       3    0.26       3                 NaN      NaN   \n",
       "100002          NaN     NaN     NaN     NaN  Brush,Roller,Spray  6.63 in   \n",
       "100003          NaN     NaN     129     NaN                 NaN      NaN   \n",
       "100004          NaN     NaN     NaN     NaN                 NaN      NaN   \n",
       "\n",
       "value_uid    value17               ...               value68 value69 value7  \\\n",
       "product_uid                        ...                                        \n",
       "100001           NaN               ...                   NaN     NaN     12   \n",
       "100002       7.76 in               ...                   NaN     NaN    NaN   \n",
       "100003           NaN               ...                   NaN     NaN    NaN   \n",
       "100004           NaN               ...                    No      No    NaN   \n",
       "\n",
       "value_uid   value70 value71 value72 value73 value74            value8  \\\n",
       "product_uid                                                             \n",
       "100001          NaN     NaN     NaN     NaN     NaN  Galvanized Steel   \n",
       "100002          NaN     NaN     NaN     NaN     NaN               NaN   \n",
       "100003          NaN     NaN     NaN     NaN     NaN         Composite   \n",
       "100004            4    1.57   64.96      40      39               NaN   \n",
       "\n",
       "value_uid                            value9  \n",
       "product_uid                                  \n",
       "100001                   Simpson Strong-Tie  \n",
       "100002       BEHR Premium Textured DeckOver  \n",
       "100003                             STERLING  \n",
       "100004                          Grape Solar  \n",
       "\n",
       "[4 rows x 75 columns]"
      ]
     },
     "execution_count": 58,
     "metadata": {},
     "output_type": "execute_result"
    }
   ],
   "source": [
    "test"
   ]
  },
  {
   "cell_type": "code",
   "execution_count": 10,
   "metadata": {
    "collapsed": false
   },
   "outputs": [
    {
     "data": {
      "text/plain": [
       "product_uid      2044648\n",
       "name             2044648\n",
       "value            2042713\n",
       "attribute_uid    2044803\n",
       "name_uid         2044803\n",
       "value_uid        2044803\n",
       "dtype: int64"
      ]
     },
     "execution_count": 10,
     "metadata": {},
     "output_type": "execute_result"
    }
   ],
   "source": [
    "attribute_df.count()"
   ]
  },
  {
   "cell_type": "markdown",
   "metadata": {},
   "source": [
    "Pour un product_uid, on ne doit avoir qu'un jeux de paramètres uniques"
   ]
  },
  {
   "cell_type": "code",
   "execution_count": 50,
   "metadata": {
    "collapsed": false
   },
   "outputs": [],
   "source": [
    "investiguation = attribute_df.groupby([\"name\", \"product_uid\"]).count()"
   ]
  },
  {
   "cell_type": "code",
   "execution_count": 51,
   "metadata": {
    "collapsed": false
   },
   "outputs": [
    {
     "data": {
      "text/plain": [
       "Index([u'value'], dtype='object')"
      ]
     },
     "execution_count": 51,
     "metadata": {},
     "output_type": "execute_result"
    }
   ],
   "source": [
    "investiguation.columns"
   ]
  },
  {
   "cell_type": "code",
   "execution_count": 54,
   "metadata": {
    "collapsed": false
   },
   "outputs": [
    {
     "data": {
      "text/html": [
       "<div>\n",
       "<table border=\"1\" class=\"dataframe\">\n",
       "  <thead>\n",
       "    <tr style=\"text-align: right;\">\n",
       "      <th></th>\n",
       "      <th></th>\n",
       "      <th>value</th>\n",
       "    </tr>\n",
       "    <tr>\n",
       "      <th>name</th>\n",
       "      <th>product_uid</th>\n",
       "      <th></th>\n",
       "    </tr>\n",
       "  </thead>\n",
       "  <tbody>\n",
       "    <tr>\n",
       "      <th rowspan=\"3\" valign=\"top\">Accessory Type</th>\n",
       "      <th>103855</th>\n",
       "      <td>2</td>\n",
       "    </tr>\n",
       "    <tr>\n",
       "      <th>128965</th>\n",
       "      <td>2</td>\n",
       "    </tr>\n",
       "    <tr>\n",
       "      <th>137573</th>\n",
       "      <td>2</td>\n",
       "    </tr>\n",
       "  </tbody>\n",
       "</table>\n",
       "</div>"
      ],
      "text/plain": [
       "                            value\n",
       "name           product_uid       \n",
       "Accessory Type 103855           2\n",
       "               128965           2\n",
       "               137573           2"
      ]
     },
     "execution_count": 54,
     "metadata": {},
     "output_type": "execute_result"
    }
   ],
   "source": [
    "investiguation[investiguation[\"value\"] > 1][0:3]"
   ]
  },
  {
   "cell_type": "code",
   "execution_count": 16,
   "metadata": {
    "collapsed": false
   },
   "outputs": [
    {
     "data": {
      "text/plain": [
       "array([ \"Polar's cargo cover seals tight around your Polar Trailer bed, protecting gear from snow, rain and mud. This cover is water resistant. Designed to fit the LT 800 and Utility Cart.Protects gear and loadDesigned to fit the LT 800 and utility cartWater resistantCovers nicely for storage\"], dtype=object)"
      ]
     },
     "execution_count": 16,
     "metadata": {},
     "output_type": "execute_result"
    }
   ],
   "source": [
    "cond = (product_df[\"product_uid\"] == 103855)\n",
    "product_df[cond][\"product_description\"].values"
   ]
  },
  {
   "cell_type": "markdown",
   "metadata": {},
   "source": [
    "contatener les champs \"Accessory Type\" et regarder quoi faire au mieux pour les autres"
   ]
  },
  {
   "cell_type": "code",
   "execution_count": 17,
   "metadata": {
    "collapsed": false
   },
   "outputs": [
    {
     "data": {
      "text/html": [
       "<div>\n",
       "<table border=\"1\" class=\"dataframe\">\n",
       "  <thead>\n",
       "    <tr style=\"text-align: right;\">\n",
       "      <th></th>\n",
       "      <th>product_uid</th>\n",
       "      <th>name</th>\n",
       "      <th>value</th>\n",
       "      <th>attribute_uid</th>\n",
       "      <th>name_uid</th>\n",
       "      <th>value_uid</th>\n",
       "    </tr>\n",
       "  </thead>\n",
       "  <tbody>\n",
       "    <tr>\n",
       "      <th>91424</th>\n",
       "      <td>103855</td>\n",
       "      <td>Accessory Type</td>\n",
       "      <td>Other Accessory</td>\n",
       "      <td>865</td>\n",
       "      <td>name865</td>\n",
       "      <td>value865</td>\n",
       "    </tr>\n",
       "    <tr>\n",
       "      <th>91425</th>\n",
       "      <td>103855</td>\n",
       "      <td>Accessory Type</td>\n",
       "      <td>Travel Cover</td>\n",
       "      <td>865</td>\n",
       "      <td>name865</td>\n",
       "      <td>value865</td>\n",
       "    </tr>\n",
       "    <tr>\n",
       "      <th>91426</th>\n",
       "      <td>103855</td>\n",
       "      <td>Bullet01</td>\n",
       "      <td>Protects gear and load</td>\n",
       "      <td>0</td>\n",
       "      <td>name0</td>\n",
       "      <td>value0</td>\n",
       "    </tr>\n",
       "    <tr>\n",
       "      <th>91427</th>\n",
       "      <td>103855</td>\n",
       "      <td>Bullet02</td>\n",
       "      <td>Designed to fit the LT 800 and utility cart</td>\n",
       "      <td>1</td>\n",
       "      <td>name1</td>\n",
       "      <td>value1</td>\n",
       "    </tr>\n",
       "    <tr>\n",
       "      <th>91428</th>\n",
       "      <td>103855</td>\n",
       "      <td>Bullet03</td>\n",
       "      <td>Water resistant</td>\n",
       "      <td>2</td>\n",
       "      <td>name2</td>\n",
       "      <td>value2</td>\n",
       "    </tr>\n",
       "    <tr>\n",
       "      <th>91429</th>\n",
       "      <td>103855</td>\n",
       "      <td>Bullet04</td>\n",
       "      <td>Covers nicely for storage</td>\n",
       "      <td>3</td>\n",
       "      <td>name3</td>\n",
       "      <td>value3</td>\n",
       "    </tr>\n",
       "    <tr>\n",
       "      <th>91430</th>\n",
       "      <td>103855</td>\n",
       "      <td>Material</td>\n",
       "      <td>Fabric</td>\n",
       "      <td>8</td>\n",
       "      <td>name8</td>\n",
       "      <td>value8</td>\n",
       "    </tr>\n",
       "    <tr>\n",
       "      <th>91431</th>\n",
       "      <td>103855</td>\n",
       "      <td>MFG Brand Name</td>\n",
       "      <td>Polar Trailer</td>\n",
       "      <td>9</td>\n",
       "      <td>name9</td>\n",
       "      <td>value9</td>\n",
       "    </tr>\n",
       "    <tr>\n",
       "      <th>91432</th>\n",
       "      <td>103855</td>\n",
       "      <td>Product Depth (in.)</td>\n",
       "      <td>52</td>\n",
       "      <td>11</td>\n",
       "      <td>name11</td>\n",
       "      <td>value11</td>\n",
       "    </tr>\n",
       "    <tr>\n",
       "      <th>91433</th>\n",
       "      <td>103855</td>\n",
       "      <td>Product Height (in.)</td>\n",
       "      <td>6</td>\n",
       "      <td>12</td>\n",
       "      <td>name12</td>\n",
       "      <td>value12</td>\n",
       "    </tr>\n",
       "    <tr>\n",
       "      <th>91434</th>\n",
       "      <td>103855</td>\n",
       "      <td>Product Length (in.)</td>\n",
       "      <td>52</td>\n",
       "      <td>167</td>\n",
       "      <td>name167</td>\n",
       "      <td>value167</td>\n",
       "    </tr>\n",
       "    <tr>\n",
       "      <th>91435</th>\n",
       "      <td>103855</td>\n",
       "      <td>Product Weight (lb.)</td>\n",
       "      <td>5</td>\n",
       "      <td>13</td>\n",
       "      <td>name13</td>\n",
       "      <td>value13</td>\n",
       "    </tr>\n",
       "    <tr>\n",
       "      <th>91436</th>\n",
       "      <td>103855</td>\n",
       "      <td>Product Width (in.)</td>\n",
       "      <td>27</td>\n",
       "      <td>14</td>\n",
       "      <td>name14</td>\n",
       "      <td>value14</td>\n",
       "    </tr>\n",
       "    <tr>\n",
       "      <th>91437</th>\n",
       "      <td>103855</td>\n",
       "      <td>Tools Product Type</td>\n",
       "      <td>Tool Storage</td>\n",
       "      <td>345</td>\n",
       "      <td>name345</td>\n",
       "      <td>value345</td>\n",
       "    </tr>\n",
       "  </tbody>\n",
       "</table>\n",
       "</div>"
      ],
      "text/plain": [
       "       product_uid                  name  \\\n",
       "91424       103855        Accessory Type   \n",
       "91425       103855        Accessory Type   \n",
       "91426       103855              Bullet01   \n",
       "91427       103855              Bullet02   \n",
       "91428       103855              Bullet03   \n",
       "91429       103855              Bullet04   \n",
       "91430       103855              Material   \n",
       "91431       103855        MFG Brand Name   \n",
       "91432       103855   Product Depth (in.)   \n",
       "91433       103855  Product Height (in.)   \n",
       "91434       103855  Product Length (in.)   \n",
       "91435       103855  Product Weight (lb.)   \n",
       "91436       103855   Product Width (in.)   \n",
       "91437       103855    Tools Product Type   \n",
       "\n",
       "                                             value  attribute_uid name_uid  \\\n",
       "91424                              Other Accessory            865  name865   \n",
       "91425                                 Travel Cover            865  name865   \n",
       "91426                       Protects gear and load              0    name0   \n",
       "91427  Designed to fit the LT 800 and utility cart              1    name1   \n",
       "91428                              Water resistant              2    name2   \n",
       "91429                    Covers nicely for storage              3    name3   \n",
       "91430                                       Fabric              8    name8   \n",
       "91431                                Polar Trailer              9    name9   \n",
       "91432                                           52             11   name11   \n",
       "91433                                            6             12   name12   \n",
       "91434                                           52            167  name167   \n",
       "91435                                            5             13   name13   \n",
       "91436                                           27             14   name14   \n",
       "91437                                 Tool Storage            345  name345   \n",
       "\n",
       "      value_uid  \n",
       "91424  value865  \n",
       "91425  value865  \n",
       "91426    value0  \n",
       "91427    value1  \n",
       "91428    value2  \n",
       "91429    value3  \n",
       "91430    value8  \n",
       "91431    value9  \n",
       "91432   value11  \n",
       "91433   value12  \n",
       "91434  value167  \n",
       "91435   value13  \n",
       "91436   value14  \n",
       "91437  value345  "
      ]
     },
     "execution_count": 17,
     "metadata": {},
     "output_type": "execute_result"
    }
   ],
   "source": [
    "cond = (attribute_df[\"product_uid\"] == 103855)\n",
    "attribute_df[cond]"
   ]
  },
  {
   "cell_type": "code",
   "execution_count": 18,
   "metadata": {
    "collapsed": false
   },
   "outputs": [
    {
     "data": {
      "text/html": [
       "<div>\n",
       "<table border=\"1\" class=\"dataframe\">\n",
       "  <thead>\n",
       "    <tr style=\"text-align: right;\">\n",
       "      <th></th>\n",
       "      <th>product_uid</th>\n",
       "      <th>name</th>\n",
       "      <th>value</th>\n",
       "      <th>attribute_uid</th>\n",
       "      <th>name_uid</th>\n",
       "      <th>value_uid</th>\n",
       "    </tr>\n",
       "  </thead>\n",
       "  <tbody>\n",
       "    <tr>\n",
       "      <th>91424</th>\n",
       "      <td>103855</td>\n",
       "      <td>Accessory Type</td>\n",
       "      <td>Other Accessory</td>\n",
       "      <td>865</td>\n",
       "      <td>name865</td>\n",
       "      <td>value865</td>\n",
       "    </tr>\n",
       "    <tr>\n",
       "      <th>91425</th>\n",
       "      <td>103855</td>\n",
       "      <td>Accessory Type</td>\n",
       "      <td>Travel Cover</td>\n",
       "      <td>865</td>\n",
       "      <td>name865</td>\n",
       "      <td>value865</td>\n",
       "    </tr>\n",
       "  </tbody>\n",
       "</table>\n",
       "</div>"
      ],
      "text/plain": [
       "       product_uid            name            value  attribute_uid name_uid  \\\n",
       "91424       103855  Accessory Type  Other Accessory            865  name865   \n",
       "91425       103855  Accessory Type     Travel Cover            865  name865   \n",
       "\n",
       "      value_uid  \n",
       "91424  value865  \n",
       "91425  value865  "
      ]
     },
     "execution_count": 18,
     "metadata": {},
     "output_type": "execute_result"
    }
   ],
   "source": [
    "cond = (attribute_df[\"name\"] == \"Accessory Type\") & (attribute_df[\"product_uid\"] == 103855)\n",
    "attribute_df[cond]"
   ]
  },
  {
   "cell_type": "code",
   "execution_count": 29,
   "metadata": {
    "collapsed": false
   },
   "outputs": [
    {
     "name": "stdout",
     "output_type": "stream",
     "text": [
      "45\n"
     ]
    },
    {
     "data": {
      "text/plain": [
       "{'Accessory Type',\n",
       " 'Alarm Sensor Type',\n",
       " 'Application Method',\n",
       " 'Collection Name',\n",
       " 'Color Family',\n",
       " 'Color/Finish Family',\n",
       " 'Compressor Type',\n",
       " 'Door Type',\n",
       " 'Engine Make',\n",
       " 'Engine Type',\n",
       " 'Exhaust Vent Location',\n",
       " 'Finish Family',\n",
       " 'Floor Options',\n",
       " 'Flooring Product Type',\n",
       " 'Frame Material',\n",
       " 'Garland Length (ft.)',\n",
       " 'Gas Type',\n",
       " 'Housing Material',\n",
       " 'Indoor/Outdoor',\n",
       " 'Inside Diameter',\n",
       " 'Interior/Exterior',\n",
       " 'Lock Type',\n",
       " 'Material',\n",
       " 'Mount Type',\n",
       " 'Number of Faucet Handles',\n",
       " 'Number of Pieces',\n",
       " 'Part/Accessory Type',\n",
       " 'Pool Type',\n",
       " 'Power Source',\n",
       " 'Power Type',\n",
       " 'Product Type',\n",
       " 'Pump Brand',\n",
       " 'Pump Type',\n",
       " 'Room Type',\n",
       " 'Seating Capacity',\n",
       " 'Shape',\n",
       " 'Start Type',\n",
       " 'Storage Product Type',\n",
       " 'Style',\n",
       " 'Switch Type',\n",
       " 'Tape Length (ft.)',\n",
       " 'Tool Type',\n",
       " 'Tools Included',\n",
       " 'Trip Lever Location',\n",
       " 'Type'}"
      ]
     },
     "execution_count": 29,
     "metadata": {},
     "output_type": "execute_result"
    }
   ],
   "source": [
    "multiple_attr = set([el[0] for el in investiguation[investiguation[\"value\"] > 1].index.values])\n",
    "print len(multiple_attr)\n",
    "multiple_attr"
   ]
  },
  {
   "cell_type": "code",
   "execution_count": 55,
   "metadata": {
    "collapsed": false
   },
   "outputs": [
    {
     "data": {
      "text/plain": [
       "value            2824\n",
       "attribute_uid    2824\n",
       "name_uid         2824\n",
       "value_uid        2824\n",
       "dtype: int64"
      ]
     },
     "execution_count": 55,
     "metadata": {},
     "output_type": "execute_result"
    }
   ],
   "source": [
    "investiguation[investiguation[\"value\"] > 1].count()"
   ]
  },
  {
   "cell_type": "code",
   "execution_count": 61,
   "metadata": {
    "collapsed": false
   },
   "outputs": [
    {
     "data": {
      "text/plain": [
       "value            2041800\n",
       "attribute_uid    2041800\n",
       "name_uid         2041800\n",
       "value_uid        2041800\n",
       "dtype: int64"
      ]
     },
     "execution_count": 61,
     "metadata": {},
     "output_type": "execute_result"
    }
   ],
   "source": [
    "investiguation.count()"
   ]
  },
  {
   "cell_type": "code",
   "execution_count": 17,
   "metadata": {
    "collapsed": false
   },
   "outputs": [
    {
     "data": {
      "text/html": [
       "<div>\n",
       "<table border=\"1\" class=\"dataframe\">\n",
       "  <thead>\n",
       "    <tr style=\"text-align: right;\">\n",
       "      <th>name_uid</th>\n",
       "      <th>name0</th>\n",
       "      <th>name1</th>\n",
       "      <th>name2</th>\n",
       "    </tr>\n",
       "  </thead>\n",
       "  <tbody>\n",
       "    <tr>\n",
       "      <th>0</th>\n",
       "      <td>Versatile connector for various 90° connection...</td>\n",
       "      <td>NaN</td>\n",
       "      <td>NaN</td>\n",
       "    </tr>\n",
       "    <tr>\n",
       "      <th>1</th>\n",
       "      <td>NaN</td>\n",
       "      <td>Stronger than angled nailing or screw fastenin...</td>\n",
       "      <td>NaN</td>\n",
       "    </tr>\n",
       "    <tr>\n",
       "      <th>2</th>\n",
       "      <td>NaN</td>\n",
       "      <td>NaN</td>\n",
       "      <td>Help ensure joints are consistently straight a...</td>\n",
       "    </tr>\n",
       "  </tbody>\n",
       "</table>\n",
       "</div>"
      ],
      "text/plain": [
       "name_uid                                              name0  \\\n",
       "0         Versatile connector for various 90° connection...   \n",
       "1                                                       NaN   \n",
       "2                                                       NaN   \n",
       "\n",
       "name_uid                                              name1  \\\n",
       "0                                                       NaN   \n",
       "1         Stronger than angled nailing or screw fastenin...   \n",
       "2                                                       NaN   \n",
       "\n",
       "name_uid                                              name2  \n",
       "0                                                       NaN  \n",
       "1                                                       NaN  \n",
       "2         Help ensure joints are consistently straight a...  "
      ]
     },
     "execution_count": 17,
     "metadata": {},
     "output_type": "execute_result"
    }
   ],
   "source": [
    "attribute_df[0:3].pivot(index=None,\n",
    "                   columns='name_uid',\n",
    "                   values='value')"
   ]
  },
  {
   "cell_type": "code",
   "execution_count": null,
   "metadata": {
    "collapsed": true
   },
   "outputs": [],
   "source": [
    "attribute_df[0:2].pivot(index=None,\n",
    "                   columns='name_uid',\n",
    "                   values='value')"
   ]
  },
  {
   "cell_type": "code",
   "execution_count": 44,
   "metadata": {
    "collapsed": false
   },
   "outputs": [
    {
     "name": "stdout",
     "output_type": "stream",
     "text": [
      "Help on method pivot in module pandas.core.frame:\n",
      "\n",
      "pivot(self, index=None, columns=None, values=None) method of pandas.core.frame.DataFrame instance\n",
      "    Reshape data (produce a \"pivot\" table) based on column values. Uses\n",
      "    unique values from index / columns to form axes and return either\n",
      "    DataFrame or Panel, depending on whether you request a single value\n",
      "    column (DataFrame) or all columns (Panel)\n",
      "    \n",
      "    Parameters\n",
      "    ----------\n",
      "    index : string or object, optional\n",
      "        Column name to use to make new frame's index. If None, uses\n",
      "        existing index.\n",
      "    columns : string or object\n",
      "        Column name to use to make new frame's columns\n",
      "    values : string or object, optional\n",
      "        Column name to use for populating new frame's values\n",
      "    \n",
      "    Notes\n",
      "    -----\n",
      "    For finer-tuned control, see hierarchical indexing documentation along\n",
      "    with the related stack/unstack methods\n",
      "    \n",
      "    Examples\n",
      "    --------\n",
      "    >>> df\n",
      "        foo   bar  baz\n",
      "    0   one   A    1.\n",
      "    1   one   B    2.\n",
      "    2   one   C    3.\n",
      "    3   two   A    4.\n",
      "    4   two   B    5.\n",
      "    5   two   C    6.\n",
      "    \n",
      "    >>> df.pivot('foo', 'bar', 'baz')\n",
      "         A   B   C\n",
      "    one  1   2   3\n",
      "    two  4   5   6\n",
      "    \n",
      "    >>> df.pivot('foo', 'bar')['baz']\n",
      "         A   B   C\n",
      "    one  1   2   3\n",
      "    two  4   5   6\n",
      "    \n",
      "    Returns\n",
      "    -------\n",
      "    pivoted : DataFrame\n",
      "        If no values column specified, will have hierarchically indexed\n",
      "        columns\n",
      "\n"
     ]
    }
   ],
   "source": [
    "help(attribute_df.pivot)"
   ]
  },
  {
   "cell_type": "code",
   "execution_count": 5,
   "metadata": {
    "collapsed": false
   },
   "outputs": [
    {
     "data": {
      "text/html": [
       "<div>\n",
       "<table border=\"1\" class=\"dataframe\">\n",
       "  <thead>\n",
       "    <tr style=\"text-align: right;\">\n",
       "      <th></th>\n",
       "      <th>id</th>\n",
       "      <th>product_uid</th>\n",
       "      <th>product_title</th>\n",
       "      <th>search_term</th>\n",
       "      <th>relevance</th>\n",
       "      <th>product_description</th>\n",
       "    </tr>\n",
       "  </thead>\n",
       "  <tbody>\n",
       "    <tr>\n",
       "      <th>0</th>\n",
       "      <td>2</td>\n",
       "      <td>100001</td>\n",
       "      <td>Simpson Strong-Tie 12-Gauge Angle</td>\n",
       "      <td>angle bracket</td>\n",
       "      <td>3.0</td>\n",
       "      <td>Not only do angles make joints stronger, they ...</td>\n",
       "    </tr>\n",
       "    <tr>\n",
       "      <th>1</th>\n",
       "      <td>3</td>\n",
       "      <td>100001</td>\n",
       "      <td>Simpson Strong-Tie 12-Gauge Angle</td>\n",
       "      <td>l bracket</td>\n",
       "      <td>2.5</td>\n",
       "      <td>Not only do angles make joints stronger, they ...</td>\n",
       "    </tr>\n",
       "    <tr>\n",
       "      <th>2</th>\n",
       "      <td>9</td>\n",
       "      <td>100002</td>\n",
       "      <td>BEHR Premium Textured DeckOver 1-gal. #SC-141 ...</td>\n",
       "      <td>deck over</td>\n",
       "      <td>3.0</td>\n",
       "      <td>BEHR Premium Textured DECKOVER is an innovativ...</td>\n",
       "    </tr>\n",
       "  </tbody>\n",
       "</table>\n",
       "</div>"
      ],
      "text/plain": [
       "   id  product_uid                                      product_title  \\\n",
       "0   2       100001                  Simpson Strong-Tie 12-Gauge Angle   \n",
       "1   3       100001                  Simpson Strong-Tie 12-Gauge Angle   \n",
       "2   9       100002  BEHR Premium Textured DeckOver 1-gal. #SC-141 ...   \n",
       "\n",
       "     search_term  relevance                                product_description  \n",
       "0  angle bracket        3.0  Not only do angles make joints stronger, they ...  \n",
       "1      l bracket        2.5  Not only do angles make joints stronger, they ...  \n",
       "2      deck over        3.0  BEHR Premium Textured DECKOVER is an innovativ...  "
      ]
     },
     "execution_count": 5,
     "metadata": {},
     "output_type": "execute_result"
    }
   ],
   "source": [
    "dataset[:3]"
   ]
  },
  {
   "cell_type": "markdown",
   "metadata": {},
   "source": [
    "je veux passer de...  \n",
    "id | name | value  \n",
    "5    name1  value1  \n",
    "5    name2  value2\n",
    "\n",
    "à...  \n",
    "id | name | value | name | value  \n",
    "id  name1  value1  name2  value2"
   ]
  },
  {
   "cell_type": "code",
   "execution_count": 37,
   "metadata": {
    "collapsed": false
   },
   "outputs": [
    {
     "data": {
      "text/plain": [
       "['Container Width (in.)',\n",
       " 'Planter Features',\n",
       " 'Accessory type',\n",
       " 'Stair Part Type',\n",
       " 'Bullet Proof',\n",
       " 'Mirrored',\n",
       " 'Non-Glare',\n",
       " 'Shatter Resistant',\n",
       " 'Sheet Features',\n",
       " 'Surface Type',\n",
       " 'Dishwasher drain connection',\n",
       " 'Disposer Feed',\n",
       " 'Grind chamber capacity (oz.)',\n",
       " 'Grinding Speed (RPM)',\n",
       " 'Horsepower (hp)']"
      ]
     },
     "execution_count": 37,
     "metadata": {},
     "output_type": "execute_result"
    }
   ],
   "source": [
    "attributes = attribute_df[\"name\"].unique().tolist()\n",
    "attributes[500:515]"
   ]
  }
 ],
 "metadata": {
  "kernelspec": {
   "display_name": "Python 2",
   "language": "python",
   "name": "python2"
  },
  "language_info": {
   "codemirror_mode": {
    "name": "ipython",
    "version": 2
   },
   "file_extension": ".py",
   "mimetype": "text/x-python",
   "name": "python",
   "nbconvert_exporter": "python",
   "pygments_lexer": "ipython2",
   "version": "2.7.6"
  }
 },
 "nbformat": 4,
 "nbformat_minor": 0
}
